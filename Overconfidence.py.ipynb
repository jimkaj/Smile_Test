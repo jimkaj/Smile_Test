{
 "cells": [
  {
   "cell_type": "code",
   "execution_count": 1,
   "metadata": {},
   "outputs": [],
   "source": [
    "# Import Libraries\n",
    "import pandas as pd\n",
    "import numpy as np\n",
    "\n",
    "# Import Matplotlib\n",
    "import matplotlib.pyplot as plt\n",
    "%matplotlib inline"
   ]
  },
  {
   "cell_type": "code",
   "execution_count": 2,
   "metadata": {},
   "outputs": [
    {
     "name": "stderr",
     "output_type": "stream",
     "text": [
      "/anaconda3/lib/python3.6/site-packages/IPython/core/interactiveshell.py:2728: DtypeWarning: Columns (1,4,5,6) have mixed types. Specify dtype option on import or set low_memory=False.\n",
      "  interactivity=interactivity, compiler=compiler, result=result)\n"
     ]
    }
   ],
   "source": [
    "# Import cleaned file\n",
    "df = pd.read_csv(\"Clean_Smile_Data.csv\")\n",
    "df.reset_index(0, inplace = True)\n",
    "\n",
    "# Filter out users who don't have a Confidence Score in a reasonable range\n",
    "acc_ints_as_strings = [str(x) for x in list(range(0,21))]\n",
    "df = df[df.Confidence.notnull()]\n",
    "df = df[df.Confidence.apply(lambda x: x in acc_ints_as_strings)]\n",
    "\n",
    "# Transform to Longform\n",
    "ids = ['Subject','Confidence','Is_Female','Is_Male','Age','Children', 'Career']\n",
    "values = ['Q01','Q02','Q03','Q04','Q05','Q06','Q07','Q08','Q09','Q10','Q11','Q12','Q13','Q14','Q15','Q16','Q17','Q18', 'Q19','Q20']\n",
    "df = pd.melt(df, id_vars = ids, value_vars= values, var_name= 'Question', value_name='Response')"
   ]
  },
  {
   "cell_type": "code",
   "execution_count": 3,
   "metadata": {},
   "outputs": [
    {
     "data": {
      "text/html": [
       "<div>\n",
       "<style scoped>\n",
       "    .dataframe tbody tr th:only-of-type {\n",
       "        vertical-align: middle;\n",
       "    }\n",
       "\n",
       "    .dataframe tbody tr th {\n",
       "        vertical-align: top;\n",
       "    }\n",
       "\n",
       "    .dataframe thead th {\n",
       "        text-align: right;\n",
       "    }\n",
       "</style>\n",
       "<table border=\"1\" class=\"dataframe\">\n",
       "  <thead>\n",
       "    <tr style=\"text-align: right;\">\n",
       "      <th></th>\n",
       "      <th>Subject</th>\n",
       "      <th>Confidence</th>\n",
       "      <th>Is_Female</th>\n",
       "      <th>Is_Male</th>\n",
       "      <th>Age</th>\n",
       "      <th>Children</th>\n",
       "      <th>Career</th>\n",
       "      <th>Question</th>\n",
       "      <th>Response</th>\n",
       "      <th>Correct</th>\n",
       "      <th>Number_Correct</th>\n",
       "      <th>Overestimation</th>\n",
       "    </tr>\n",
       "  </thead>\n",
       "  <tbody>\n",
       "    <tr>\n",
       "      <th>0</th>\n",
       "      <td>5537045516</td>\n",
       "      <td>15</td>\n",
       "      <td>Female</td>\n",
       "      <td>NaN</td>\n",
       "      <td>32</td>\n",
       "      <td>1</td>\n",
       "      <td>NaN</td>\n",
       "      <td>Q01</td>\n",
       "      <td>Genuine</td>\n",
       "      <td>True</td>\n",
       "      <td>15.0</td>\n",
       "      <td>0</td>\n",
       "    </tr>\n",
       "    <tr>\n",
       "      <th>1</th>\n",
       "      <td>5537045516</td>\n",
       "      <td>15</td>\n",
       "      <td>Female</td>\n",
       "      <td>NaN</td>\n",
       "      <td>32</td>\n",
       "      <td>1</td>\n",
       "      <td>NaN</td>\n",
       "      <td>Q02</td>\n",
       "      <td>Fake</td>\n",
       "      <td>True</td>\n",
       "      <td>15.0</td>\n",
       "      <td>0</td>\n",
       "    </tr>\n",
       "    <tr>\n",
       "      <th>2</th>\n",
       "      <td>5537045516</td>\n",
       "      <td>15</td>\n",
       "      <td>Female</td>\n",
       "      <td>NaN</td>\n",
       "      <td>32</td>\n",
       "      <td>1</td>\n",
       "      <td>NaN</td>\n",
       "      <td>Q03</td>\n",
       "      <td>NaN</td>\n",
       "      <td>False</td>\n",
       "      <td>15.0</td>\n",
       "      <td>0</td>\n",
       "    </tr>\n",
       "    <tr>\n",
       "      <th>3</th>\n",
       "      <td>5537045516</td>\n",
       "      <td>15</td>\n",
       "      <td>Female</td>\n",
       "      <td>NaN</td>\n",
       "      <td>32</td>\n",
       "      <td>1</td>\n",
       "      <td>NaN</td>\n",
       "      <td>Q04</td>\n",
       "      <td>NaN</td>\n",
       "      <td>False</td>\n",
       "      <td>15.0</td>\n",
       "      <td>0</td>\n",
       "    </tr>\n",
       "    <tr>\n",
       "      <th>4</th>\n",
       "      <td>5537045516</td>\n",
       "      <td>15</td>\n",
       "      <td>Female</td>\n",
       "      <td>NaN</td>\n",
       "      <td>32</td>\n",
       "      <td>1</td>\n",
       "      <td>NaN</td>\n",
       "      <td>Q05</td>\n",
       "      <td>Genuine</td>\n",
       "      <td>True</td>\n",
       "      <td>15.0</td>\n",
       "      <td>0</td>\n",
       "    </tr>\n",
       "  </tbody>\n",
       "</table>\n",
       "</div>"
      ],
      "text/plain": [
       "      Subject Confidence Is_Female Is_Male Age Children Career Question  \\\n",
       "0  5537045516         15    Female     NaN  32        1    NaN      Q01   \n",
       "1  5537045516         15    Female     NaN  32        1    NaN      Q02   \n",
       "2  5537045516         15    Female     NaN  32        1    NaN      Q03   \n",
       "3  5537045516         15    Female     NaN  32        1    NaN      Q04   \n",
       "4  5537045516         15    Female     NaN  32        1    NaN      Q05   \n",
       "\n",
       "  Response  Correct  Number_Correct  Overestimation  \n",
       "0  Genuine     True            15.0               0  \n",
       "1     Fake     True            15.0               0  \n",
       "2      NaN    False            15.0               0  \n",
       "3      NaN    False            15.0               0  \n",
       "4  Genuine     True            15.0               0  "
      ]
     },
     "execution_count": 3,
     "metadata": {},
     "output_type": "execute_result"
    }
   ],
   "source": [
    "# Create new column that says whether a comment was accurate or not.\n",
    "df[\"Correct\"] = df.Response.apply(lambda x: x in [\"Genuine\", \"Fake\"]) \n",
    "\n",
    "# Create a new df that records the overall accuracy of each subject\n",
    "accuracy = pd.DataFrame(df.groupby(\"Subject\").Correct.sum())\n",
    "accuracy.reset_index(0, inplace= True)\n",
    "accuracy.columns = ['Subject', 'Number_Correct']\n",
    "\n",
    "# Join old dataframe back to original\n",
    "df = df.merge(accuracy, on = \"Subject\")\n",
    "\n",
    "# Create column that shows difference between Confidence and amount correct\n",
    "df[\"Overestimation\"] = df.apply(lambda row: int(row.Confidence) - int(row.Number_Correct), axis = 1)\n",
    "df.head()"
   ]
  },
  {
   "cell_type": "code",
   "execution_count": 5,
   "metadata": {},
   "outputs": [
    {
     "data": {
      "image/png": "[encoded data removed]",
      "text/plain": [
       "<matplotlib.figure.Figure at 0x111d3fa20>"
      ]
     },
     "metadata": {},
     "output_type": "display_data"
    }
   ],
   "source": [
    "# Are people overconfident on this task? Compare predicted number correct to actual correct.\n",
    "# Because histograms are normed, this controls for the fact that every user has 20 rows (one for each question))\n",
    "df.Overestimation.hist(normed = True)  \n",
    "plt.xlabel(\"Overestimation\")\n",
    "plt.ylabel(\"Proportion of People\")\n",
    "plt.title(\"Distribution of Overconfidence\")\n",
    "plt.show()"
   ]
  },
  {
   "cell_type": "code",
   "execution_count": 5,
   "metadata": {},
   "outputs": [
    {
     "name": "stdout",
     "output_type": "stream",
     "text": [
      "Average Number Correct: 15.322838036948884\n",
      "Average Confidence: 13.364524538138955\n",
      "Average Overconfidence: -1.9583134988099287\n"
     ]
    }
   ],
   "source": [
    "# What is the average number that people get correct?\n",
    "print(\"Average Number Correct: \" + str(df.Number_Correct.mean()))\n",
    "print(\"Average Confidence: \" + str(df.Confidence.astype(\"int\").mean()))\n",
    "print(\"Average Overconfidence: \" + str(df.Overestimation.mean()))"
   ]
  },
  {
   "cell_type": "code",
   "execution_count": 99,
   "metadata": {
    "scrolled": true
   },
   "outputs": [
    {
     "name": "stdout",
     "output_type": "stream",
     "text": [
      "\n",
      "\n",
      "Average Male Overestimation: -1.5100315372743742\n",
      "Average Female Overestimation: -2.193275844010753\n",
      "\n",
      "\n",
      "Standard Deviation Male Overestimation: 4.672322116672041\n",
      "Standard Deviation Female Overestimation: 4.47005508375536\n"
     ]
    },
    {
     "name": "stderr",
     "output_type": "stream",
     "text": [
      "/anaconda3/lib/python3.6/site-packages/numpy/core/fromnumeric.py:52: FutureWarning: reshape is deprecated and will raise in a subsequent release. Please use .values.reshape(...) instead\n",
      "  return getattr(obj, method)(*args, **kwds)\n"
     ]
    },
    {
     "data": {
      "image/png": "[encoded data removed]",
      "text/plain": [
       "<matplotlib.figure.Figure at 0x11ef88908>"
      ]
     },
     "metadata": {},
     "output_type": "display_data"
    }
   ],
   "source": [
    "# Are men more overconfident than women? \n",
    "\n",
    "# Separate out men and women\n",
    "men = df[df.Is_Male == \"Male\"].copy()\n",
    "women = df[df.Is_Female == \"Female\"].copy()\n",
    "\n",
    "# Print means\n",
    "print(\"\\n\")\n",
    "print(\"Average Male Overestimation: \" + str(men.Overestimation.mean()))\n",
    "print(\"Average Female Overestimation: \" + str(women.Overestimation.mean()))\n",
    "\n",
    "# Print Standard Deviations\n",
    "print(\"\\n\")\n",
    "print(\"Standard Deviation Male Overestimation: \" + str(men.Overestimation.std()))\n",
    "print(\"Standard Deviation Female Overestimation: \" + str(women.Overestimation.std()))\n",
    "\n",
    "# Create historgrams\n",
    "bins = [x for x in list(range(-20,20))]\n",
    "plt.hist([men.Overestimation, women.Overestimation], bins, alpha=0.5, label= ['Male', 'Female'], normed = True)\n",
    "plt.legend(loc = 'upper right')\n",
    "plt.xlabel(\"Overestimation\")\n",
    "plt.ylabel(\"Proportion of Users\")\n",
    "plt.title(\"Distribution of Overconfidence by Gender\")\n",
    "plt.show()"
   ]
  },
  {
   "cell_type": "code",
   "execution_count": 122,
   "metadata": {},
   "outputs": [],
   "source": [
    "# Are younger people more overconfident than older people?\n",
    "\n",
    "# Filter for users who with reasonable ages\n",
    "reasonable_ages = [str(x) for x in list(range(10,80))]\n",
    "age_df = df.copy()\n",
    "age_df = age_df[age_df.Age.notnull()]\n",
    "age_df = age_df[age_df.Age.apply(lambda x: x in reasonable_ages)]\n",
    "    \n",
    "# Find average overstimation per age\n",
    "age_df = age_df.groupby(\"Age\").Overestimation.agg([\"mean\",  \"std\"])\n",
    "age_df.reset_index(0, inplace = True)\n",
    "\n",
    "# Relabel Columns\n",
    "age_df.columns = [\"Age\", \"Mean_Overestimation\", \"Standard_Deviation\"]"
   ]
  },
  {
   "cell_type": "code",
   "execution_count": 123,
   "metadata": {},
   "outputs": [
    {
     "data": {
      "image/png": "[encoded data removed]",
      "text/plain": [
       "<matplotlib.figure.Figure at 0x10f826780>"
      ]
     },
     "metadata": {},
     "output_type": "display_data"
    }
   ],
   "source": [
    "# Plot Overconfidence By Age\n",
    "plt.scatter(x = age_df.Age.astype(\"int\"), y = age_df.Mean_Overestimation)\n",
    "plt.xlabel(\"Age\")\n",
    "plt.ylabel(\"Average Overestimation\")\n",
    "plt.title(\"Average Overconfidence by Age\")\n",
    "plt.xticks(np.arange(min(age_df.Age.astype(\"int\")), max(age_df.Age.astype(\"int\"))+1, 10))\n",
    "plt.show()"
   ]
  },
  {
   "cell_type": "code",
   "execution_count": 124,
   "metadata": {},
   "outputs": [
    {
     "data": {
      "image/png": "[encoded data removed]",
      "text/plain": [
       "<matplotlib.figure.Figure at 0x10f79ae48>"
      ]
     },
     "metadata": {},
     "output_type": "display_data"
    }
   ],
   "source": [
    "# Plot Columns\n",
    "plt.scatter(x = age_df.Age.astype(\"int\"), y = age_df.Standard_Deviation)\n",
    "plt.xlabel(\"Age\")\n",
    "plt.ylabel(\"Standard Deviation of Overestimation\")\n",
    "plt.title(\"Standard Deviation of Overconfidence by Age\")\n",
    "plt.xticks(np.arange(min(age_df.Age.astype(\"int\")), max(age_df.Age.astype(\"int\"))+1, 10))\n",
    "plt.show()"
   ]
  },
  {
   "cell_type": "code",
   "execution_count": 103,
   "metadata": {},
   "outputs": [
    {
     "name": "stdout",
     "output_type": "stream",
     "text": [
      "\n",
      "\n",
      "Average Overestimation for those with Careers: -1.735924617196702\n",
      "Average Overestimation for those without Careers: -2.154145714393739\n",
      "\n",
      "\n",
      "Standard Deviation of Overestimation for those with Careers: 4.672452994045368\n",
      "Standard Deviation of Overestimation for those without Careers: 4.500686009065355\n"
     ]
    },
    {
     "name": "stderr",
     "output_type": "stream",
     "text": [
      "/anaconda3/lib/python3.6/site-packages/numpy/core/fromnumeric.py:52: FutureWarning: reshape is deprecated and will raise in a subsequent release. Please use .values.reshape(...) instead\n",
      "  return getattr(obj, method)(*args, **kwds)\n"
     ]
    },
    {
     "data": {
      "image/png": "[encoded data removed]",
      "text/plain": [
       "<matplotlib.figure.Figure at 0x110272dd8>"
      ]
     },
     "metadata": {},
     "output_type": "display_data"
    }
   ],
   "source": [
    "# Do subjects who have had a job “reading people” think they’ll do better on the smile test? \n",
    "# Do they actually do better? Some research has shown experts tend to be overconfident more often \n",
    "# than novices (Bradley, 1981).\n",
    "\n",
    "# Clean out joke or unreasonable answers\n",
    "reasonable_career = [str(x) for x in list(range(0,5))]\n",
    "career_df = df[(df.Career.notnull()) & (df.Career.apply(lambda x: x in reasonable_career))].copy()\n",
    "\n",
    "# Create binary column for having / not having careers\n",
    "career_df[\"has_career\"] = career_df.Career.apply(lambda x: int(x) > 0)\n",
    "\n",
    "career = career_df[career_df.has_career]\n",
    "wo_career = career_df[career_df.has_career == False]\n",
    "\n",
    "# Print means\n",
    "print(\"\\n\")\n",
    "print(\"Average Overestimation for those with Careers: \" + str(career.Overestimation.mean()))\n",
    "print(\"Average Overestimation for those without Careers: \" + str(wo_career.Overestimation.mean()))\n",
    "\n",
    "# Print Standard Deviations\n",
    "print(\"\\n\")\n",
    "print(\"Standard Deviation of Overestimation for those with Careers: \" + str(career.Overestimation.std()))\n",
    "print(\"Standard Deviation of Overestimation for those without Careers: \" + str(wo_career.Overestimation.std()))\n",
    "\n",
    "# Create histogram\n",
    "plt.hist([career.Overestimation, wo_career.Overestimation], bins, label= ['Has Career', 'No Career'], normed = True)\n",
    "plt.legend(loc = 'upper right')\n",
    "plt.xlabel(\"Overestimation\")\n",
    "plt.ylabel(\"Proportion of Population\")\n",
    "plt.title(\"Distribution of Overconfidence by Career\")\n",
    "plt.show()"
   ]
  },
  {
   "cell_type": "code",
   "execution_count": 80,
   "metadata": {},
   "outputs": [],
   "source": [
    "# Do overconfident people tend to miss questions relative to underconfident people?\n",
    "\n",
    "# Get proportion correct for each question\n",
    "questions = pd.DataFrame(df.groupby(\"Question\").apply(lambda x: x.Correct.mean()))\n",
    "\n",
    "# Reset index and rename columns (in preparation for a merge down the line)\n",
    "questions.reset_index(0, inplace= True)\n",
    "questions.columns = [\"Question\", \"Proportion_Correct\"]\n",
    "\n",
    "# Join old dataframe back to original\n",
    "questions = questions.merge(df, on = \"Question\")\n",
    "\n",
    "# Label users as over-estimators / under-estimators / non-delusionals\n",
    "def label_accuracy(x):\n",
    "    '''Returns label to signify whether user overestimated, underestimated, or precisely estimated performance.'''\n",
    "    if int(x.Confidence) > int(x.Number_Correct):\n",
    "        return \"Overestimator\"\n",
    "    elif int(x.Confidence) < int(x.Number_Correct):\n",
    "        return \"Underestimator\"\n",
    "    else:\n",
    "        return \"Non-Delusional\"\n",
    "    \n",
    "questions[\"Estimator_Status\"] = questions.apply(label_accuracy, axis = 1)"
   ]
  },
  {
   "cell_type": "code",
   "execution_count": 87,
   "metadata": {},
   "outputs": [
    {
     "name": "stdout",
     "output_type": "stream",
     "text": [
      "\n",
      "\n",
      "Average Number Correct for Overestimators: 13.819383945239577\n",
      "Average Number Correct for Underestimators: 16.070537603034502\n",
      "Average Number Correct for Accurates: 15.017703722988806\n"
     ]
    },
    {
     "name": "stderr",
     "output_type": "stream",
     "text": [
      "/anaconda3/lib/python3.6/site-packages/numpy/core/fromnumeric.py:52: FutureWarning: reshape is deprecated and will raise in a subsequent release. Please use .values.reshape(...) instead\n",
      "  return getattr(obj, method)(*args, **kwds)\n"
     ]
    },
    {
     "data": {
      "image/png": "[encoded data removed]",
      "text/plain": [
       "<matplotlib.figure.Figure at 0x1259c0e80>"
      ]
     },
     "metadata": {},
     "output_type": "display_data"
    }
   ],
   "source": [
    "# Does overconfidence at least predict better performance?\n",
    "over = questions[questions.Estimator_Status == \"Overestimator\"]\n",
    "under = questions[questions.Estimator_Status == \"Underestimator\"]\n",
    "acc = questions[questions.Estimator_Status == \"Non-Delusional\"]\n",
    "\n",
    "# Get Means for each\n",
    "print(\"\\n\")\n",
    "print(\"Average Number Correct for Overestimators: \" + str(over.Number_Correct.mean()))\n",
    "print(\"Average Number Correct for Underestimators: \" + str(under.Number_Correct.mean()))\n",
    "print(\"Average Number Correct for Accurates: \" + str(acc.Number_Correct.mean()))\n",
    "\n",
    "# Define Bins\n",
    "bins = [x for x in list(range(0, 21))]\n",
    "\n",
    "# Create Histogram\n",
    "plt.hist([over.Number_Correct, under.Number_Correct, acc.Number_Correct], bins, alpha=0.5, label= ['Over', 'Under', 'Accurate'], normed = True)\n",
    "plt.legend(loc = 'upper left')\n",
    "plt.xlabel(\"Numer Correct\")\n",
    "plt.ylabel(\"Proportion of Population\")\n",
    "plt.title(\"Number Correct by Estimation Status\")\n",
    "plt.show()"
   ]
  },
  {
   "cell_type": "code",
   "execution_count": 131,
   "metadata": {},
   "outputs": [
    {
     "data": {
      "text/plain": [
       "Estimator_Status\n",
       "Non-Delusional    0.087068\n",
       "Overestimator     0.291420\n",
       "Underestimator    0.621512\n",
       "Name: Subject, dtype: float64"
      ]
     },
     "execution_count": 131,
     "metadata": {},
     "output_type": "execute_result"
    }
   ],
   "source": [
    "# Get Proportion of the population that fits each description:\n",
    "questions.groupby(\"Estimator_Status\").Subject.nunique() / questions.Subject.nunique()"
   ]
  },
  {
   "cell_type": "code",
   "execution_count": null,
   "metadata": {},
   "outputs": [],
   "source": []
  }
 ],
 "metadata": {
  "kernelspec": {
   "display_name": "Python 3",
   "language": "python",
   "name": "python3"
  },
  "language_info": {
   "codemirror_mode": {
    "name": "ipython",
    "version": 3
   },
   "file_extension": ".py",
   "mimetype": "text/x-python",
   "name": "python",
   "nbconvert_exporter": "python",
   "pygments_lexer": "ipython3",
   "version": "3.6.4"
  }
 },
 "nbformat": 4,
 "nbformat_minor": 2
}
